{
 "cells": [
  {
   "cell_type": "markdown",
   "metadata": {},
   "source": [
    "# Frequently used Functions"
   ]
  },
  {
   "cell_type": "markdown",
   "metadata": {},
   "source": [
    "Convert One Column Data of JSON Columns into strings."
   ]
  },
  {
   "cell_type": "code",
   "execution_count": null,
   "metadata": {},
   "outputs": [],
   "source": [
    "def convert_json_field_in_df_into_strings(df, df_field, json_field):\n",
    "    import json\n",
    "    \n",
    "    \"\"\"\n",
    "    Convert JSON fields to string, by taking the dataframe and a field, a json field, which returns a list of string\n",
    "\n",
    "    from a specific field in a dataframe\n",
    "\n",
    "    Below are the explanation of parameters used.\n",
    "    * df: dataframe to be used\n",
    "    * df_field: field in dataframe, to convert json into strings\n",
    "    * json_field: one field to be kept from json inside the data field in dataframe.\n",
    "\n",
    "    Consider the example:\n",
    "\n",
    "    | id | movie_name | movie_genres |\n",
    "\n",
    "    | 1 | a           | {\"id\": 1, \"name\": \"action\"}, {\"id\": 2, \"name\": \"romance\"} | \n",
    "\n",
    "    | 2 | b           | {\"id\": 1, \"name\": \"slice of life\"}, {\"id\": 2, \"name\": \"food\"} |\n",
    "\n",
    "    If we use the function: \n",
    "    \n",
    "    convert_json_field_in_df_into_strings(df, \"movie_genres\", \"name\")\n",
    "\n",
    "    This gives us the list of string from all rows in movie_genres field.\n",
    "\n",
    "    \"\"\"\n",
    "\n",
    "    json_data = json.loads(df[df_field].to_json())\n",
    "    json_values = list(json_data.values())\n",
    "\n",
    "    list_of_strings = []\n",
    "\n",
    "    for value in json_values:\n",
    "\n",
    "        my_string = \"\"\n",
    "\n",
    "        dicts = list(json.loads(value))[:]\n",
    "\n",
    "        for dict_value in dicts:\n",
    "            my_string += f\"{dict_value[json_field]} \"\n",
    "        list_of_strings.append(my_string[:-1])\n",
    "\n",
    "    return list_of_strings"
   ]
  },
  {
   "cell_type": "markdown",
   "metadata": {},
   "source": [
    "Combine all strings from one df and all fields into arrays of strings, each row corresponds to each row in dataframe."
   ]
  },
  {
   "cell_type": "code",
   "execution_count": null,
   "metadata": {},
   "outputs": [],
   "source": [
    "def combine_all_strings_from_df(df, fields, whitespace_split = ','):\n",
    "    \"\"\"\n",
    "    Combine all strings from one df and all fields. \n",
    "    \n",
    "    If you'd like to put something between words, provide whitespace_split parameter.\n",
    "    \"\"\"\n",
    "    df_strings = df.to_string(header = False,\n",
    "                       index = False,\n",
    "                       columns = fields,\n",
    "                       index_names = False).split('\\n')\n",
    "\n",
    "    all_strings = [\" \".join(s.split()) for s in df_strings]\n",
    "\n",
    "    return all_strings"
   ]
  }
 ],
 "metadata": {
  "language_info": {
   "name": "python"
  },
  "orig_nbformat": 4
 },
 "nbformat": 4,
 "nbformat_minor": 2
}
